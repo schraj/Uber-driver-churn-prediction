{
 "cells": [
  {
   "cell_type": "markdown",
   "metadata": {},
   "source": [
    "# Will New Drivers Start Driving?\n",
    "\n",
    "## 2.1 Group Members: Jeremy Schrader\n",
    "\n",
    "The sample dataset is a cohort of driver signups for Uber from January 2016 and from 3 cities.  The data is from a few months after they signed up to include the result of whether they actually completed their first trip as a driver. It also includes several pieces of background information about the driver and their car.\n",
    "\n",
    "## 2.2 Problem Formulation\n",
    "\n",
    "### 2.2.1 Data Problem\n",
    "The question to be answered is what factors are most predictive of whether an individual who has signed up will start to drive.  Basically, the goal will be(in part 2) to use this information to build a model that weights these factors most strongly so as to most effectively predict whether a new driver, based on their factors, will start to drive.  Whether or not the individual does start to drive is determined by whether they have a date in the \"first_completed_date\" field, in essence saying that they have driven at least once.\n",
    "\n",
    "### 2.2.2 Data Population\n",
    "The data population is all individuals who sign up to be Uber drivers.  The sample is all individuals who signed up in the month of January 2016 from 3 cities.\n",
    "\n",
    "After looking through the data for the city_name field, I see that only 3 cities are represented in the data. Therefore, the scope of the data is only a subset of Uber's overall driver signups, maybe all signups from those 3 cities.\n",
    "\n",
    "## 2.3 Data\n",
    "\n",
    "### 2.3.1 Kaggle account\n",
    "N/A as my project is not from kaggle(but my kaggle username is jeremyschrader1)"
   ]
  },
  {
   "cell_type": "code",
   "execution_count": 31,
   "metadata": {},
   "outputs": [],
   "source": [
    "# Import required libraries\n",
    "import numpy as np\n",
    "import pandas as pd\n",
    "import matplotlib.pyplot as plt\n",
    "import seaborn as sns\n",
    "from sklearn.model_selection import train_test_split"
   ]
  },
  {
   "cell_type": "markdown",
   "metadata": {},
   "source": [
    "## 2.3.2 Show First 5 lines\n",
    "The first 5 lines are shown in the next block.\n",
    "\n",
    "There is only one data file. The data dictionary is provided below.  The headers are included in the data file.  We can see from the data dictionary that we have different kinds of data:\n",
    "- data about the driver, e.g. city_id\n",
    "- data about the signup process, e.g. signup_os\n",
    "- data about the driver's car, e.g. vehicle_make\n",
    "\n",
    "The target variable is `first_trip_date`.  Basically, did this person who signed up actually ever start as an uber driver.  The data dictionary is actually wrong with respect to a number of the field names.  This \"first-trip-date\" variable is actually named `first_completed_date` in the dataset.\n",
    "\n",
    "```\n",
    "id: driver_id\n",
    "city_id: city_id this user signed up in\n",
    "signup_os: signup device of the user (“android”, “ios”, “website”, “other”)\n",
    "signup_channel: what channel did the driver sign up from (“offline”, “paid”, “organic”, “referral”)\n",
    "signup_timestamp: timestamp of account creation; local time in the form ‘YYYY MM DD’\n",
    "bgc_date: date of background check consent; in the form ‘YYYY MM DD’\n",
    "vehicle_added_date: date when driver’s vehicle information was uploaded; in the form ‘YYYY MM DD’\n",
    "first_trip_date: date of the first trip as a driver; in the form ‘YYYY MM DD’\n",
    "vehicle_make: make of vehicle uploaded (i.e. Honda, Ford, Kia)\n",
    "vehicle_model: model of vehicle uploaded (i.e. Accord, Prius, 350z)\n",
    "vehicle_year: year that the car was made; in the form ‘YYYY’\n",
    "```"
   ]
  },
  {
   "cell_type": "code",
   "execution_count": 32,
   "metadata": {},
   "outputs": [
    {
     "name": "stdout",
     "output_type": "stream",
     "text": [
      "id,city_name,signup_os,signup_channel,signup_date,bgc_date,vehicle_added_date,vehicle_make,vehicle_model,vehicle_year,first_completed_date\n",
      "1,Strark,ios web,Paid,1/2/16,NA,NA,,,NA,NA\n",
      "2,Strark,windows,Paid,1/21/16,NA,NA,,,NA,NA\n",
      "3,Wrouver,windows,Organic,1/11/16,1/11/16,NA,,,NA,NA\n",
      "4,Berton,android web,Referral,1/29/16,2/3/16,2/3/16,Toyota,Corolla,2016,2/3/16\n"
     ]
    }
   ],
   "source": [
    "with open('./data/ds_challenge_v2_1_data.csv', 'r') as file:\n",
    "    # Read the first five lines\n",
    "    for _ in range(5):\n",
    "        line = file.readline()\n",
    "        if not line:\n",
    "            break\n",
    "        print(line.strip()) "
   ]
  },
  {
   "cell_type": "markdown",
   "metadata": {},
   "source": [
    "### Data Wrangling\n",
    "Below, I will walk through each field, look at their characteristics and use the results of this exploration to address the following overarching properties that we need to know about our dataset.\n",
    "- Structure\n",
    "- Granularity\n",
    "- Scope\n",
    "- Temporality\n",
    "- Faithfulness"
   ]
  },
  {
   "cell_type": "code",
   "execution_count": 33,
   "metadata": {},
   "outputs": [
    {
     "data": {
      "text/html": [
       "<div>\n",
       "<style scoped>\n",
       "    .dataframe tbody tr th:only-of-type {\n",
       "        vertical-align: middle;\n",
       "    }\n",
       "\n",
       "    .dataframe tbody tr th {\n",
       "        vertical-align: top;\n",
       "    }\n",
       "\n",
       "    .dataframe thead th {\n",
       "        text-align: right;\n",
       "    }\n",
       "</style>\n",
       "<table border=\"1\" class=\"dataframe\">\n",
       "  <thead>\n",
       "    <tr style=\"text-align: right;\">\n",
       "      <th></th>\n",
       "      <th>id</th>\n",
       "      <th>city_name</th>\n",
       "      <th>signup_os</th>\n",
       "      <th>signup_channel</th>\n",
       "      <th>signup_date</th>\n",
       "      <th>bgc_date</th>\n",
       "      <th>vehicle_added_date</th>\n",
       "      <th>vehicle_make</th>\n",
       "      <th>vehicle_model</th>\n",
       "      <th>vehicle_year</th>\n",
       "      <th>first_completed_date</th>\n",
       "    </tr>\n",
       "  </thead>\n",
       "  <tbody>\n",
       "    <tr>\n",
       "      <th>0</th>\n",
       "      <td>1</td>\n",
       "      <td>Strark</td>\n",
       "      <td>ios web</td>\n",
       "      <td>Paid</td>\n",
       "      <td>1/2/16</td>\n",
       "      <td>NaN</td>\n",
       "      <td>NaN</td>\n",
       "      <td>NaN</td>\n",
       "      <td>NaN</td>\n",
       "      <td>NaN</td>\n",
       "      <td>NaN</td>\n",
       "    </tr>\n",
       "    <tr>\n",
       "      <th>1</th>\n",
       "      <td>2</td>\n",
       "      <td>Strark</td>\n",
       "      <td>windows</td>\n",
       "      <td>Paid</td>\n",
       "      <td>1/21/16</td>\n",
       "      <td>NaN</td>\n",
       "      <td>NaN</td>\n",
       "      <td>NaN</td>\n",
       "      <td>NaN</td>\n",
       "      <td>NaN</td>\n",
       "      <td>NaN</td>\n",
       "    </tr>\n",
       "    <tr>\n",
       "      <th>2</th>\n",
       "      <td>3</td>\n",
       "      <td>Wrouver</td>\n",
       "      <td>windows</td>\n",
       "      <td>Organic</td>\n",
       "      <td>1/11/16</td>\n",
       "      <td>1/11/16</td>\n",
       "      <td>NaN</td>\n",
       "      <td>NaN</td>\n",
       "      <td>NaN</td>\n",
       "      <td>NaN</td>\n",
       "      <td>NaN</td>\n",
       "    </tr>\n",
       "    <tr>\n",
       "      <th>3</th>\n",
       "      <td>4</td>\n",
       "      <td>Berton</td>\n",
       "      <td>android web</td>\n",
       "      <td>Referral</td>\n",
       "      <td>1/29/16</td>\n",
       "      <td>2/3/16</td>\n",
       "      <td>2/3/16</td>\n",
       "      <td>Toyota</td>\n",
       "      <td>Corolla</td>\n",
       "      <td>2016.0</td>\n",
       "      <td>2/3/16</td>\n",
       "    </tr>\n",
       "    <tr>\n",
       "      <th>4</th>\n",
       "      <td>5</td>\n",
       "      <td>Strark</td>\n",
       "      <td>android web</td>\n",
       "      <td>Referral</td>\n",
       "      <td>1/10/16</td>\n",
       "      <td>1/25/16</td>\n",
       "      <td>1/26/16</td>\n",
       "      <td>Hyundai</td>\n",
       "      <td>Sonata</td>\n",
       "      <td>2016.0</td>\n",
       "      <td>NaN</td>\n",
       "    </tr>\n",
       "  </tbody>\n",
       "</table>\n",
       "</div>"
      ],
      "text/plain": [
       "   id city_name    signup_os signup_channel signup_date bgc_date  \\\n",
       "0   1    Strark      ios web           Paid      1/2/16      NaN   \n",
       "1   2    Strark      windows           Paid     1/21/16      NaN   \n",
       "2   3   Wrouver      windows        Organic     1/11/16  1/11/16   \n",
       "3   4    Berton  android web       Referral     1/29/16   2/3/16   \n",
       "4   5    Strark  android web       Referral     1/10/16  1/25/16   \n",
       "\n",
       "  vehicle_added_date vehicle_make vehicle_model  vehicle_year  \\\n",
       "0                NaN          NaN           NaN           NaN   \n",
       "1                NaN          NaN           NaN           NaN   \n",
       "2                NaN          NaN           NaN           NaN   \n",
       "3             2/3/16       Toyota       Corolla        2016.0   \n",
       "4            1/26/16      Hyundai        Sonata        2016.0   \n",
       "\n",
       "  first_completed_date  \n",
       "0                  NaN  \n",
       "1                  NaN  \n",
       "2                  NaN  \n",
       "3               2/3/16  \n",
       "4                  NaN  "
      ]
     },
     "execution_count": 33,
     "metadata": {},
     "output_type": "execute_result"
    }
   ],
   "source": [
    "df = pd.read_csv('./data/ds_challenge_v2_1_data.csv')\n",
    "df.head()"
   ]
  },
  {
   "cell_type": "markdown",
   "metadata": {},
   "source": [
    "### Initial Notes:\n",
    "From looking at the overall dataframe: \n",
    "- Structure is correct.  Csv import worked correctly and filenames worked.  \n",
    "  - Multiple column names(city_id -> city_name, first_trip_date -> first_completed_date) are different from the data dictionary\n",
    "  - Date formats are provided incorrectly in the data dictionary. "
   ]
  },
  {
   "cell_type": "markdown",
   "metadata": {},
   "source": [
    "### Data Formatting Step\n",
    "Change text date fields to datetime"
   ]
  },
  {
   "cell_type": "code",
   "execution_count": 34,
   "metadata": {},
   "outputs": [
    {
     "data": {
      "text/html": [
       "<div>\n",
       "<style scoped>\n",
       "    .dataframe tbody tr th:only-of-type {\n",
       "        vertical-align: middle;\n",
       "    }\n",
       "\n",
       "    .dataframe tbody tr th {\n",
       "        vertical-align: top;\n",
       "    }\n",
       "\n",
       "    .dataframe thead th {\n",
       "        text-align: right;\n",
       "    }\n",
       "</style>\n",
       "<table border=\"1\" class=\"dataframe\">\n",
       "  <thead>\n",
       "    <tr style=\"text-align: right;\">\n",
       "      <th></th>\n",
       "      <th>id</th>\n",
       "      <th>city_name</th>\n",
       "      <th>signup_os</th>\n",
       "      <th>signup_channel</th>\n",
       "      <th>signup_date</th>\n",
       "      <th>bgc_date</th>\n",
       "      <th>vehicle_added_date</th>\n",
       "      <th>vehicle_make</th>\n",
       "      <th>vehicle_model</th>\n",
       "      <th>vehicle_year</th>\n",
       "      <th>first_completed_date</th>\n",
       "      <th>dt_signup_date</th>\n",
       "      <th>dt_bgc_date</th>\n",
       "      <th>dt_vehicle_added_date</th>\n",
       "      <th>dt_first_completed_date</th>\n",
       "    </tr>\n",
       "  </thead>\n",
       "  <tbody>\n",
       "    <tr>\n",
       "      <th>0</th>\n",
       "      <td>1</td>\n",
       "      <td>Strark</td>\n",
       "      <td>ios web</td>\n",
       "      <td>Paid</td>\n",
       "      <td>1/2/16</td>\n",
       "      <td>NaN</td>\n",
       "      <td>NaN</td>\n",
       "      <td>NaN</td>\n",
       "      <td>NaN</td>\n",
       "      <td>NaN</td>\n",
       "      <td>NaN</td>\n",
       "      <td>2016-01-02</td>\n",
       "      <td>NaT</td>\n",
       "      <td>NaT</td>\n",
       "      <td>NaT</td>\n",
       "    </tr>\n",
       "    <tr>\n",
       "      <th>1</th>\n",
       "      <td>2</td>\n",
       "      <td>Strark</td>\n",
       "      <td>windows</td>\n",
       "      <td>Paid</td>\n",
       "      <td>1/21/16</td>\n",
       "      <td>NaN</td>\n",
       "      <td>NaN</td>\n",
       "      <td>NaN</td>\n",
       "      <td>NaN</td>\n",
       "      <td>NaN</td>\n",
       "      <td>NaN</td>\n",
       "      <td>2016-01-21</td>\n",
       "      <td>NaT</td>\n",
       "      <td>NaT</td>\n",
       "      <td>NaT</td>\n",
       "    </tr>\n",
       "    <tr>\n",
       "      <th>2</th>\n",
       "      <td>3</td>\n",
       "      <td>Wrouver</td>\n",
       "      <td>windows</td>\n",
       "      <td>Organic</td>\n",
       "      <td>1/11/16</td>\n",
       "      <td>1/11/16</td>\n",
       "      <td>NaN</td>\n",
       "      <td>NaN</td>\n",
       "      <td>NaN</td>\n",
       "      <td>NaN</td>\n",
       "      <td>NaN</td>\n",
       "      <td>2016-01-11</td>\n",
       "      <td>2016-01-11</td>\n",
       "      <td>NaT</td>\n",
       "      <td>NaT</td>\n",
       "    </tr>\n",
       "    <tr>\n",
       "      <th>3</th>\n",
       "      <td>4</td>\n",
       "      <td>Berton</td>\n",
       "      <td>android web</td>\n",
       "      <td>Referral</td>\n",
       "      <td>1/29/16</td>\n",
       "      <td>2/3/16</td>\n",
       "      <td>2/3/16</td>\n",
       "      <td>Toyota</td>\n",
       "      <td>Corolla</td>\n",
       "      <td>2016.0</td>\n",
       "      <td>2/3/16</td>\n",
       "      <td>2016-01-29</td>\n",
       "      <td>2016-02-03</td>\n",
       "      <td>2016-02-03</td>\n",
       "      <td>2016-02-03</td>\n",
       "    </tr>\n",
       "    <tr>\n",
       "      <th>4</th>\n",
       "      <td>5</td>\n",
       "      <td>Strark</td>\n",
       "      <td>android web</td>\n",
       "      <td>Referral</td>\n",
       "      <td>1/10/16</td>\n",
       "      <td>1/25/16</td>\n",
       "      <td>1/26/16</td>\n",
       "      <td>Hyundai</td>\n",
       "      <td>Sonata</td>\n",
       "      <td>2016.0</td>\n",
       "      <td>NaN</td>\n",
       "      <td>2016-01-10</td>\n",
       "      <td>2016-01-25</td>\n",
       "      <td>2016-01-26</td>\n",
       "      <td>NaT</td>\n",
       "    </tr>\n",
       "  </tbody>\n",
       "</table>\n",
       "</div>"
      ],
      "text/plain": [
       "   id city_name    signup_os signup_channel signup_date bgc_date  \\\n",
       "0   1    Strark      ios web           Paid      1/2/16      NaN   \n",
       "1   2    Strark      windows           Paid     1/21/16      NaN   \n",
       "2   3   Wrouver      windows        Organic     1/11/16  1/11/16   \n",
       "3   4    Berton  android web       Referral     1/29/16   2/3/16   \n",
       "4   5    Strark  android web       Referral     1/10/16  1/25/16   \n",
       "\n",
       "  vehicle_added_date vehicle_make vehicle_model  vehicle_year  \\\n",
       "0                NaN          NaN           NaN           NaN   \n",
       "1                NaN          NaN           NaN           NaN   \n",
       "2                NaN          NaN           NaN           NaN   \n",
       "3             2/3/16       Toyota       Corolla        2016.0   \n",
       "4            1/26/16      Hyundai        Sonata        2016.0   \n",
       "\n",
       "  first_completed_date dt_signup_date dt_bgc_date dt_vehicle_added_date  \\\n",
       "0                  NaN     2016-01-02         NaT                   NaT   \n",
       "1                  NaN     2016-01-21         NaT                   NaT   \n",
       "2                  NaN     2016-01-11  2016-01-11                   NaT   \n",
       "3               2/3/16     2016-01-29  2016-02-03            2016-02-03   \n",
       "4                  NaN     2016-01-10  2016-01-25            2016-01-26   \n",
       "\n",
       "  dt_first_completed_date  \n",
       "0                     NaT  \n",
       "1                     NaT  \n",
       "2                     NaT  \n",
       "3              2016-02-03  \n",
       "4                     NaT  "
      ]
     },
     "execution_count": 34,
     "metadata": {},
     "output_type": "execute_result"
    }
   ],
   "source": [
    "import pandas as pd\n",
    "df['dt_signup_date'] = pd.to_datetime(df['signup_date'], format=\"%m/%d/%y\")\n",
    "df['dt_bgc_date'] = pd.to_datetime(df['bgc_date'], format=\"%m/%d/%y\")\n",
    "df['dt_vehicle_added_date'] = pd.to_datetime(df['vehicle_added_date'], format=\"%m/%d/%y\")\n",
    "df['dt_first_completed_date'] = pd.to_datetime(df['first_completed_date'], format=\"%m/%d/%y\")\n",
    "df.head()"
   ]
  },
  {
   "cell_type": "code",
   "execution_count": 101,
   "metadata": {},
   "outputs": [
    {
     "name": "stdout",
     "output_type": "stream",
     "text": [
      "1\n"
     ]
    }
   ],
   "source": [
    "print(df['id'].value_counts().max())"
   ]
  },
  {
   "cell_type": "markdown",
   "metadata": {},
   "source": [
    "## Notes: id\n",
    "From the block above, we can see that there are no duplicates of the id field.  The data dictionary says that this field refers to the `driver_id`. Since this is unduplicated, it indicates that the \"Granularity\" of our dataset is at the level of the individual signup.\n"
   ]
  },
  {
   "cell_type": "code",
   "execution_count": 35,
   "metadata": {},
   "outputs": [
    {
     "name": "stdout",
     "output_type": "stream",
     "text": [
      "2016-01-01 00:00:00 2016-01-30 00:00:00\n"
     ]
    }
   ],
   "source": [
    "max, min = df['dt_signup_date'].max(), df['dt_signup_date'].min()\n",
    "print(min, max)"
   ]
  },
  {
   "cell_type": "code",
   "execution_count": 36,
   "metadata": {},
   "outputs": [
    {
     "data": {
      "image/png": "[encoded data removed]",
      "text/plain": [
       "<Figure size 640x480 with 1 Axes>"
      ]
     },
     "metadata": {},
     "output_type": "display_data"
    }
   ],
   "source": [
    "plt.hist(x=df['dt_signup_date'])\n",
    "plt.xticks(rotation=90)\n",
    "plt.subplots_adjust(bottom=0.15)\n",
    "plt.show()"
   ]
  },
  {
   "cell_type": "markdown",
   "metadata": {},
   "source": [
    "### Initial Notes on Scope and Temporality: signup_date\n",
    "From the distribution of the `signup_date`, `dt_signup_date` field, we can learn about \"Scope\" and \"Temporality\" of the dataset.\n",
    "- The data is for each day of january 2016(except jan 31).  And, it is essentially regularly distributed across these days.  Therefore, the time of the data is as expected.  The scope of the data is partially based on the time.  There are 54681 rows.  I looked up an estimate for number of people who signed up to drive with uber and did not find anything.  From a look at the city_name field, I see that only 3 cities are represented in the data. Therefore, the scope of the data is only a subset of Uber's overall driver signups, maybe all from those 3 cities.  This \"scope\" is different than I had understood it to be when first looking at the dataset.  I had thought it was all Uber signups."
   ]
  },
  {
   "cell_type": "markdown",
   "metadata": {},
   "source": [
    "### Process Notes: \n",
    "I will go through each variable, one-by-one and explore what it should be, what it actually is, and how this informs our understanding of the 5 properties of the dataset."
   ]
  },
  {
   "cell_type": "code",
   "execution_count": 38,
   "metadata": {},
   "outputs": [
    {
     "name": "stdout",
     "output_type": "stream",
     "text": [
      "<class 'pandas.core.frame.DataFrame'>\n",
      "RangeIndex: 54681 entries, 0 to 54680\n",
      "Data columns (total 15 columns):\n",
      " #   Column                   Non-Null Count  Dtype         \n",
      "---  ------                   --------------  -----         \n",
      " 0   id                       54681 non-null  int64         \n",
      " 1   city_name                54681 non-null  object        \n",
      " 2   signup_os                47824 non-null  object        \n",
      " 3   signup_channel           54681 non-null  object        \n",
      " 4   signup_date              54681 non-null  object        \n",
      " 5   bgc_date                 32896 non-null  object        \n",
      " 6   vehicle_added_date       13134 non-null  object        \n",
      " 7   vehicle_make             13223 non-null  object        \n",
      " 8   vehicle_model            13223 non-null  object        \n",
      " 9   vehicle_year             13223 non-null  float64       \n",
      " 10  first_completed_date     6137 non-null   object        \n",
      " 11  dt_signup_date           54681 non-null  datetime64[ns]\n",
      " 12  dt_bgc_date              32896 non-null  datetime64[ns]\n",
      " 13  dt_vehicle_added_date    13134 non-null  datetime64[ns]\n",
      " 14  dt_first_completed_date  6137 non-null   datetime64[ns]\n",
      "dtypes: datetime64[ns](4), float64(1), int64(1), object(9)\n",
      "memory usage: 6.3+ MB\n"
     ]
    }
   ],
   "source": [
    "# View a list of variables and a count of their non-missing values\n",
    "df.info()"
   ]
  },
  {
   "cell_type": "code",
   "execution_count": 39,
   "metadata": {},
   "outputs": [
    {
     "data": {
      "text/plain": [
       "city_name\n",
       "Strark     29557\n",
       "Berton     20117\n",
       "Wrouver     5007\n",
       "Name: count, dtype: int64"
      ]
     },
     "execution_count": 39,
     "metadata": {},
     "output_type": "execute_result"
    }
   ],
   "source": [
    "# city_name\n",
    "df['city_name'].value_counts()"
   ]
  },
  {
   "cell_type": "markdown",
   "metadata": {},
   "source": [
    "### Notes: signup_os\n",
    "From the breakdown of the city_name field, I can see that the scope of the data is not \"All\" of uber sign-ups but only those for a few cities.  I'll adjust my statements on the data scope above.\n",
    "\n",
    "Otherwise, city_name field looks OK."
   ]
  },
  {
   "cell_type": "code",
   "execution_count": 40,
   "metadata": {},
   "outputs": [
    {
     "data": {
      "text/plain": [
       "signup_os\n",
       "ios web        16632\n",
       "android web    14944\n",
       "windows         6776\n",
       "mac             5824\n",
       "other           3648\n",
       "Name: count, dtype: int64"
      ]
     },
     "execution_count": 40,
     "metadata": {},
     "output_type": "execute_result"
    }
   ],
   "source": [
    "df['signup_os'].value_counts()"
   ]
  },
  {
   "cell_type": "markdown",
   "metadata": {},
   "source": [
    "### Notes: signup_os\n",
    "The signup_os field looks reasonable.  \n",
    "\n",
    "7000 missing values.  Because this is a nominal categorical variable, we can probably handle these by adding another category called 'missing'."
   ]
  },
  {
   "cell_type": "code",
   "execution_count": 41,
   "metadata": {},
   "outputs": [
    {
     "data": {
      "text/plain": [
       "signup_channel\n",
       "Paid        23938\n",
       "Referral    17316\n",
       "Organic     13427\n",
       "Name: count, dtype: int64"
      ]
     },
     "execution_count": 41,
     "metadata": {},
     "output_type": "execute_result"
    }
   ],
   "source": [
    "df['signup_channel'].value_counts()"
   ]
  },
  {
   "cell_type": "markdown",
   "metadata": {},
   "source": [
    "### Notes: signup_channel\n",
    "This looks reasonable.  I don't know exactly what they stand for, e.g. 'Paid' or 'Organic'.  Also, there is one category, 'offline', that doesn't exist in the data\n",
    "\n",
    "No missing values."
   ]
  },
  {
   "cell_type": "markdown",
   "metadata": {},
   "source": [
    "### Notes: signup_date\n",
    "I've looked at signup_date already and determined that all dates fall within the expected month and that they are relatively evenly distributed. Therefore, the \"Temporality\" of this field makes sense.  Further, this is the key field for determining both the \"Temporality\" and \"Scope\" of the\n",
    "\n",
    "No missing values.  This makes sense because the data was pulled(cohort is defined) based on this date."
   ]
  },
  {
   "cell_type": "code",
   "execution_count": 42,
   "metadata": {},
   "outputs": [
    {
     "data": {
      "text/plain": [
       "dt_bgc_date\n",
       "2016-01-29    1125\n",
       "2016-01-28    1103\n",
       "2016-01-30    1071\n",
       "2016-01-27    1071\n",
       "2016-01-22    1028\n",
       "              ... \n",
       "2016-03-15       2\n",
       "2016-03-12       2\n",
       "2016-03-13       2\n",
       "2016-03-25       1\n",
       "2016-03-10       1\n",
       "Name: count, Length: 74, dtype: int64"
      ]
     },
     "execution_count": 42,
     "metadata": {},
     "output_type": "execute_result"
    }
   ],
   "source": [
    "df['dt_bgc_date'].value_counts()\n"
   ]
  },
  {
   "cell_type": "code",
   "execution_count": 43,
   "metadata": {},
   "outputs": [
    {
     "data": {
      "image/png": "[encoded data removed]",
      "text/plain": [
       "<Figure size 640x480 with 1 Axes>"
      ]
     },
     "metadata": {},
     "output_type": "display_data"
    }
   ],
   "source": [
    "plt.hist(x=df['dt_bgc_date'])\n",
    "plt.xticks(rotation=90)\n",
    "plt.subplots_adjust(bottom=0.15)\n",
    "plt.show()"
   ]
  },
  {
   "cell_type": "markdown",
   "metadata": {},
   "source": [
    "### Notes: bgc_date\n",
    "The first thing I did with this field was transform it into a datetime field- dt_bgc_date.  The dates look reasonable.  All dates are after the 1/2016, the initial signup date. Therefore, the \"Temporality\" of this field makes sense.\n",
    "\n",
    "\n",
    "By itself, this date isn't very helpful.  However, I think that we can get 2 helpful pieces of information out of this field:\n",
    "1. The amount of time after signup when this was completed\n",
    "2. A boolean indicating whether it was completed or not.  \n",
    "\n",
    "I'll add these in the next block.\n",
    "\n",
    "~22,000 missing values.  About 40%."
   ]
  },
  {
   "cell_type": "code",
   "execution_count": 44,
   "metadata": {},
   "outputs": [],
   "source": [
    "# At this point I'm going to create my final dataframe with all of my engineered variables, those that I \n",
    "# will be keeping for analysis\n",
    "df_f = df.drop(columns=['signup_date', 'bgc_date', 'vehicle_added_date', 'first_completed_date'])\n"
   ]
  },
  {
   "cell_type": "code",
   "execution_count": 45,
   "metadata": {},
   "outputs": [],
   "source": [
    "df_f['days_to_bgc'] = (df_f['dt_bgc_date'] - df_f['dt_signup_date']).dt.days\n",
    "df_f['obtained_bgc'] = False\n",
    "df_f.loc[~df_f['dt_bgc_date'].isna(), 'obtained_bgc'] = True"
   ]
  },
  {
   "cell_type": "code",
   "execution_count": 46,
   "metadata": {},
   "outputs": [
    {
     "data": {
      "text/plain": [
       "(array([1.6563e+04, 6.8750e+03, 4.1400e+03, 2.6050e+03, 1.5250e+03,\n",
       "        7.1600e+02, 3.5100e+02, 1.0700e+02, 1.3000e+01, 1.0000e+00]),\n",
       " array([ 0. ,  6.9, 13.8, 20.7, 27.6, 34.5, 41.4, 48.3, 55.2, 62.1, 69. ]),\n",
       " <BarContainer object of 10 artists>)"
      ]
     },
     "execution_count": 46,
     "metadata": {},
     "output_type": "execute_result"
    },
    {
     "data": {
      "image/png": "[encoded data removed]",
      "text/plain": [
       "<Figure size 640x480 with 1 Axes>"
      ]
     },
     "metadata": {},
     "output_type": "display_data"
    }
   ],
   "source": [
    "plt.hist(x=df_f['days_to_bgc'])"
   ]
  },
  {
   "cell_type": "markdown",
   "metadata": {},
   "source": [
    "### Notes: vehicle_added_date\n",
    "The first thing I did with this field was transform it into a datetime field- dt_vehicle_added_date.  The dates again look reasonable.  All dates are after the 1/2016, the initial signup date.  Therefore, the \"Temporality\" of this field makes sense.\n",
    "\n",
    "By itself, like the `bgc_date`, this date isn't very helpful.  However, I think that we can again get 2 helpful pieces of information out of this field:\n",
    "1. The amount of time after signup when this was completed\n",
    "2. A boolean indicating whether it was completed or not. \n",
    "\n",
    "\n",
    "I'll add these in the next block.\n",
    "\n",
    "~40,000 missing values.  About 80%."
   ]
  },
  {
   "cell_type": "code",
   "execution_count": 47,
   "metadata": {},
   "outputs": [
    {
     "data": {
      "image/png": "[encoded data removed]",
      "text/plain": [
       "<Figure size 640x480 with 1 Axes>"
      ]
     },
     "metadata": {},
     "output_type": "display_data"
    }
   ],
   "source": [
    "plt.hist(x=df['dt_vehicle_added_date'])\n",
    "plt.xticks(rotation=90)\n",
    "plt.subplots_adjust(bottom=0.15)\n",
    "plt.show()"
   ]
  },
  {
   "cell_type": "code",
   "execution_count": 48,
   "metadata": {},
   "outputs": [],
   "source": [
    "df_f['days_to_vehicle_added'] = (df_f['dt_vehicle_added_date'] - df_f['dt_signup_date']).dt.days\n",
    "df_f['added_vehicle'] = False\n",
    "df_f.loc[~df_f['dt_vehicle_added_date'].isna(), 'added_vehicle'] = True"
   ]
  },
  {
   "cell_type": "code",
   "execution_count": 49,
   "metadata": {},
   "outputs": [
    {
     "data": {
      "text/plain": [
       "(array([2578., 3926., 2196., 1377., 1301.,  887.,  549.,  286.,   27.,\n",
       "           7.]),\n",
       " array([-5. ,  2.7, 10.4, 18.1, 25.8, 33.5, 41.2, 48.9, 56.6, 64.3, 72. ]),\n",
       " <BarContainer object of 10 artists>)"
      ]
     },
     "execution_count": 49,
     "metadata": {},
     "output_type": "execute_result"
    },
    {
     "data": {
      "image/png": "[encoded data removed]",
      "text/plain": [
       "<Figure size 640x480 with 1 Axes>"
      ]
     },
     "metadata": {},
     "output_type": "display_data"
    }
   ],
   "source": [
    "plt.hist(x=df_f['days_to_vehicle_added'])"
   ]
  },
  {
   "cell_type": "markdown",
   "metadata": {},
   "source": [
    "### Notes: vehicle_make\n",
    "\n",
    "The value_counts shows that these values look reasonable. \n",
    "\n",
    "There are a non-trivial number that appear to be pranks:\n",
    "Autobot             8\n",
    "Saab                7\n",
    "Hummer              7\n",
    "Bike                6\n",
    "Bicycle             5\n",
    "Maserati            2\n",
    "Bentley             2\n",
    "\n",
    "If Uber's system is so easy to prank/hack, that would be one important finding and a way to improve their process.\n",
    "\n",
    "I'm not sure that there is much that can be done with this field in terms of feature engineering.  However, we can one-hot encode it and perhaps it will add some signal.\n",
    "\n",
    "~40,000 missing values.  About 80%."
   ]
  },
  {
   "cell_type": "code",
   "execution_count": 50,
   "metadata": {},
   "outputs": [
    {
     "data": {
      "text/plain": [
       "array([nan, 'Toyota', 'Hyundai', 'Cadillac', 'Kia', 'Dodge',\n",
       "       'Mercedes-Benz', 'Infiniti', 'Honda', 'Fiat', 'Acura', 'Lexus',\n",
       "       'GMC', 'Pontiac', 'Nissan', 'Jeep', 'Volkswagen', 'Ford', 'Audi',\n",
       "       'Chevrolet', 'BMW', 'Subaru', 'Buick', 'Mazda', 'Chrysler',\n",
       "       'Scion', 'Saturn', 'Volvo', 'Lincoln', 'Mitsubishi', 'Land Rover',\n",
       "       'Hummer', 'Mercury', 'Porsche', 'Tesla', 'Jaguar', 'Mini', 'Saab',\n",
       "       'Suzuki', 'Bicycle', 'Bike', 'Autobot', 'Isuzu', 'Maserati',\n",
       "       'Bentley', 'Walker', 'Oldsmobile'], dtype=object)"
      ]
     },
     "execution_count": 50,
     "metadata": {},
     "output_type": "execute_result"
    }
   ],
   "source": [
    "df_f['vehicle_make'].unique()"
   ]
  },
  {
   "cell_type": "code",
   "execution_count": 51,
   "metadata": {},
   "outputs": [
    {
     "data": {
      "text/plain": [
       "vehicle_make\n",
       "Toyota           3219\n",
       "Honda            1845\n",
       "Nissan           1311\n",
       "Ford              778\n",
       "Hyundai           677\n",
       "Chevrolet         665\n",
       "Kia               584\n",
       "Volkswagen        503\n",
       "Dodge             393\n",
       "Mercedes-Benz     348\n",
       "Lexus             335\n",
       "BMW               330\n",
       "Mazda             292\n",
       "Subaru            221\n",
       "Jeep              203\n",
       "Chrysler          202\n",
       "Acura             190\n",
       "Scion             164\n",
       "Infiniti          147\n",
       "Audi              144\n",
       "Mitsubishi        113\n",
       "GMC                89\n",
       "Cadillac           86\n",
       "Lincoln            70\n",
       "Volvo              57\n",
       "Buick              46\n",
       "Pontiac            30\n",
       "Saturn             30\n",
       "Mini               20\n",
       "Land Rover         20\n",
       "Jaguar             15\n",
       "Tesla              13\n",
       "Suzuki             12\n",
       "Fiat               11\n",
       "Porsche            10\n",
       "Mercury             9\n",
       "Autobot             8\n",
       "Saab                7\n",
       "Hummer              7\n",
       "Bike                6\n",
       "Bicycle             5\n",
       "Isuzu               2\n",
       "Maserati            2\n",
       "Bentley             2\n",
       "Walker              1\n",
       "Oldsmobile          1\n",
       "Name: count, dtype: int64"
      ]
     },
     "execution_count": 51,
     "metadata": {},
     "output_type": "execute_result"
    }
   ],
   "source": [
    "df_f['vehicle_make'].value_counts()"
   ]
  },
  {
   "cell_type": "markdown",
   "metadata": {},
   "source": [
    "### Notes: vehicle_model\n",
    "\n",
    "The value_counts shows that these values look reasonable. It also matches my perception of the main types of car an uber driver drives, e.g. mid-range in cost, efficient.  One thought about a feature engineering process would be to aggregate the three fields- vehicle_make, vehicle_model, vehicle_year and look up the kelly blue book value.  That value would probably be a good signal as to whether this car was typical of an uber driver.  2019 Toyota Prius: Yes, 2023 Maserati: No.  This is just a thought experiment though.  I won't be doing it as part of this assignment.\n",
    "\n",
    "~40,000 missing values.  About 80%."
   ]
  },
  {
   "cell_type": "code",
   "execution_count": 52,
   "metadata": {},
   "outputs": [
    {
     "data": {
      "text/plain": [
       "array([nan, 'Corolla', 'Sonata', 'DTS', 'Prius V', 'Optima', 'Durango',\n",
       "       'C-Class', 'G Sedan', 'Civic', '500X', 'Escalade', 'RDX', 'ES',\n",
       "       'Prius', 'CR-V', 'CT', 'Terrain', 'G6', 'Civic Hybrid', 'Accord',\n",
       "       'Versa', 'Odyssey', 'Grand Cherokee', 'GTI', 'F-150', 'A4',\n",
       "       'Insight Hybrid', 'Elantra', 'Camry', 'Sentra', 'Malibu', 'Soul',\n",
       "       'Altima', 'Journey', 'Compass', '3-series', 'Cruze', 'Forester',\n",
       "       'Century', 'MAZDA3', 'XV Crosstrek', 'Charger', 'Flex', '7-series',\n",
       "       'RAV4', 'Traverse', 'Avenger', 'Jetta', 'Expedition', 'IS',\n",
       "       'Town and Country', 'Sienna', 'iM', 'Freestyle', 'VUE', 'Avalon',\n",
       "       'Tacoma', 'MAZDA6', 'Dart', 'Suburban', 'Xterra', 'Forte',\n",
       "       'Highlander', 'Santa Fe', 'Focus', 'Q50', 'Impreza', 'xB',\n",
       "       'Fiesta', 'Ridgeline', '5-series', 'Pilot', 'Fusion', 'Regal',\n",
       "       'Caravan', 'E-Class', 'Rogue', '200', 'S80', 'Enclave', 'Nitro',\n",
       "       'Cavalier', 'Pathfinder', 'Escape', 'Murano', 'Sportage', 'HR-V',\n",
       "       'Maxima', 'Lucerne', 'Impala', 'CX-9', 'MDX', 'FX', 'Cherokee',\n",
       "       'Genesis', 'Town Car', 'Accent', 'Passat', 'Torrent', 'xD',\n",
       "       'Tahoe', 'NX', 'Equinox', 'Volt', 'Ion', 'X5', 'Outback', 'Rio',\n",
       "       'Outlander', 'Yaris', 'A3', 'GS', 'PT Cruiser', 'Matrix', 'Golf',\n",
       "       'e-Golf', 'Grand Prix', 'TLX', 'Lancer', 'Range Rover', 'Routan',\n",
       "       '4Runner', 'H2', 'RLX', 'Quest', 'Camry Hybrid', 'Prius C',\n",
       "       'Sedona', 'Galant', 'MAZDA5', 'Jetta SportWagen', 'R-Class',\n",
       "       'Aveo', 'CTS', 'RX', 'Baja', 'TSX', 'iA', 'Sequoia', 'Tiguan',\n",
       "       'xA', 'TL', 'JX', 'SL2', 'Mariner', 'CT Hybrid', 'Tucson',\n",
       "       'Tundra', 'WRX', 'Wrangler', 'Cayenne', 'Sorento', 'CX-5', 'GX',\n",
       "       'Altima Hybrid', 'LEAF', '500L', 'Element', 'GL-Class', 'Liberty',\n",
       "       'Canyon', 'Borrego', 'Model S', '300', 'Cobalt', 'Taurus',\n",
       "       'Legacy', 'ML 350', 'XF', 'Fit', 'HHR', 'Spark', 'Navigator L',\n",
       "       'Tribute', 'Prius+', 'Magnum', 'Edge', 'SRX', 'Escape Hybrid',\n",
       "       'XG350', 'Spectra', 'C-Max Hybrid', 'Q5', 'S40', 'Explorer',\n",
       "       'GLK-Class', 'Navigator', 'M-Class', 'Caliber', 'Azera', 'ATS',\n",
       "       'Trailblazer', 'Ram 1500', 'Q7', 'M', 'Crosstour', 'Countryman S',\n",
       "       'Patriot', 'Venza', 'X6', 'Accord Hybrid', 'Cooper', 'Montero',\n",
       "       'GS Hybrid', 'Endeavor', 'Fusion Hybrid', 'Verano', 'Sonic',\n",
       "       'S-Class', 'Sebring', 'V50', 'XC90', 'Envoy', 'Captiva', 'LS',\n",
       "       'CLA-Class', '5-Sep', 'XL7', 'EX', 'XTS', 'Blazer', 'CLS-Class',\n",
       "       'XJ', 'Silverado 1500', 'Juke', 'tC', 'MKZ', 'GLA-Class',\n",
       "       'ML Class', 'Mirage', 'Veloster', 'Stratus', 'Acadia',\n",
       "       '4-series Gran Coupe', 'Grand Marquis', 'Avalanche',\n",
       "       'Transit Connect', 'F-250', 'GLI', 'MKS', 'Touareg', 'Renegade',\n",
       "       'ILX', 'Delivery', 'Santa Fe Sport', 'Yukon', 'Taurus X', 'H3',\n",
       "       'Grand Caravan', 'Bicycle', '300 H', 'Frontier', 'A6', 'Dakota',\n",
       "       'C-Max', 'Titan', 'Vibe', 'X3', 'Trax', 'MKC', 'S4', 'Uplander',\n",
       "       'Cube', 'CX-7', 'Mustang', 'V70', '6-series Gran Coupe', 'MAZDA2',\n",
       "       'CC', 'Sierra', 'Rabbit', 'FJ Cruiser', 'LaCrosse', 'X-Type',\n",
       "       'XC70', 'RL', 'i3', 'Optimus Prime', 'I', 'X1', 'Grand Am',\n",
       "       'Crown Victoria', 'Entourage', 'Sierra 1500', 'Commander',\n",
       "       'Colorado', 'MPV', 'Countryman', 'Freestar', 'Tribeca',\n",
       "       'HS Hybrid', '500', 'Aura', 'QX60', 'Kizashi', 'Ram 2500', 'S60',\n",
       "       '3-Sep', 'STS', 'XC60', 'Silverado 2500HD', 'QX56', 'K900', 'G3',\n",
       "       'L300', 'Land Rover', 'Q45', 'SL1', 'Armada', 'Rendezvous',\n",
       "       'Tracker', 'S-Type', 'Rodeo', 'Rainier', 'Allroad', 'Equus',\n",
       "       'Echo', 'Vitara', 'LeSabre', 'Ghibli', 'CLK-Class', 'DeVille',\n",
       "       'MKT', 'Veracruz', 'Encore', 'Venture', 'Grand Vitara', 'Camaro',\n",
       "       'Beetle', 'Continental', 'F350', 'Protege', 'LX', 'Monterey',\n",
       "       'QX4', 'Q3', 'Zephyr', 'Camry Solara', 'MKX', 'Amanti', 'A8',\n",
       "       'Five Hundred', 'SSR', 'Forenza', 'Voyager', 'Q40', 'QX50', 'Neon',\n",
       "       'Aspen', 'Safari', 'Rondo', 'LR4', 'Jetta Hybrid', 'Outlook',\n",
       "       'FR-S', 'Metris', 'SX4', 'Mountaineer', 'Classic',\n",
       "       'E-150 Cargo - WAV', 'F-350', 'Bravada', 'Silverado 1500 4door',\n",
       "       'Aviator', 'ZDX', 'Cadenza', 'Prizm', 'Pacifica'], dtype=object)"
      ]
     },
     "execution_count": 52,
     "metadata": {},
     "output_type": "execute_result"
    }
   ],
   "source": [
    "df_f['vehicle_model'].unique()"
   ]
  },
  {
   "cell_type": "code",
   "execution_count": 53,
   "metadata": {},
   "outputs": [
    {
     "data": {
      "text/plain": [
       "vehicle_model\n",
       "Civic            689\n",
       "Corolla          688\n",
       "Camry            683\n",
       "Accord           595\n",
       "Prius V          522\n",
       "                ... \n",
       "QX4                1\n",
       "G3                 1\n",
       "Fusion Hybrid      1\n",
       "Amanti             1\n",
       "Torrent            1\n",
       "Name: count, Length: 368, dtype: int64"
      ]
     },
     "execution_count": 53,
     "metadata": {},
     "output_type": "execute_result"
    }
   ],
   "source": [
    "df_f['vehicle_model'].value_counts()"
   ]
  },
  {
   "cell_type": "code",
   "execution_count": 54,
   "metadata": {},
   "outputs": [
    {
     "data": {
      "text/plain": [
       "vehicle_year\n",
       "2015.0    2402\n",
       "2014.0    1655\n",
       "2013.0    1451\n",
       "2016.0    1150\n",
       "2012.0    1122\n",
       "2007.0     711\n",
       "2011.0     702\n",
       "2008.0     659\n",
       "2010.0     645\n",
       "2006.0     550\n",
       "2009.0     513\n",
       "2005.0     450\n",
       "2004.0     369\n",
       "2003.0     350\n",
       "2002.0     251\n",
       "2001.0     169\n",
       "2000.0      29\n",
       "1999.0      14\n",
       "1998.0      10\n",
       "2017.0       6\n",
       "1997.0       6\n",
       "1996.0       4\n",
       "0.0          4\n",
       "1995.0       1\n",
       "Name: count, dtype: int64"
      ]
     },
     "execution_count": 54,
     "metadata": {},
     "output_type": "execute_result"
    }
   ],
   "source": [
    "test_df=df_f['vehicle_year'].value_counts()"
   ]
  },
  {
   "cell_type": "code",
   "execution_count": 98,
   "metadata": {},
   "outputs": [
    {
     "data": {
      "image/png": "[encoded data removed]",
      "text/plain": [
       "<Figure size 640x480 with 1 Axes>"
      ]
     },
     "metadata": {},
     "output_type": "display_data"
    }
   ],
   "source": [
    "test_df = pd.DataFrame(df_f['vehicle_year'].value_counts())\n",
    "test_df = test_df.reset_index()\n",
    "test_df.sort_values(by='vehicle_year', inplace=True)\n",
    "test_df.plot(kind='bar', x='vehicle_year', y='count')\n",
    "plt.title('Vehicle Year Distribution')\n",
    "plt.ylabel('Count')\n",
    "plt.subplots_adjust(bottom=0.15)\n",
    "plt.show()\n"
   ]
  },
  {
   "cell_type": "markdown",
   "metadata": {},
   "source": [
    "### Notes: vehicle_year\n",
    "The value_counts shows that these values look mostly reasonable. There are 4 `0`s and 7 `2017`s which would be a year in the future.  These are wrong but are a negligible number.  It would probably make sense to set these invalid values to null.\n",
    "\n",
    "~40,000 missing values.  About 80%."
   ]
  },
  {
   "cell_type": "code",
   "execution_count": 56,
   "metadata": {},
   "outputs": [
    {
     "name": "stdout",
     "output_type": "stream",
     "text": [
      "2016-01-04 00:00:00 2016-02-29 00:00:00\n"
     ]
    }
   ],
   "source": [
    "max, min = df['dt_first_completed_date'].max(), df['dt_first_completed_date'].min()\n",
    "print(min, max)"
   ]
  },
  {
   "cell_type": "code",
   "execution_count": 59,
   "metadata": {},
   "outputs": [
    {
     "data": {
      "image/png": "[encoded data removed]",
      "text/plain": [
       "<Figure size 640x480 with 1 Axes>"
      ]
     },
     "metadata": {},
     "output_type": "display_data"
    }
   ],
   "source": [
    "plt.hist(x=df['dt_first_completed_date'])\n",
    "plt.xticks(rotation=90)\n",
    "plt.subplots_adjust(bottom=0.15)\n",
    "plt.show()"
   ]
  },
  {
   "cell_type": "code",
   "execution_count": 57,
   "metadata": {},
   "outputs": [],
   "source": [
    "df_f['did_become_driver'] = False\n",
    "df_f.loc[~df_f['first_completed_date'].isna(), 'did_become_driver'] = True"
   ]
  },
  {
   "cell_type": "markdown",
   "metadata": {},
   "source": [
    "### Notes: first_completed_date\n",
    "From this field, we will make our target variable called `did_become_driver`.  If they have a value in this field, they did become an Uber driver.\n",
    "\n",
    "We can see from the min/max and the chart above that the values for this field look reasonable.\n"
   ]
  },
  {
   "cell_type": "markdown",
   "metadata": {},
   "source": [
    "## Overall Notes on EDA\n",
    "\n",
    "I've now looked through each field and assessed the faithfulness of the data in that field relative to what that field purports to represent. In the process, I have also transformed the data in the following ways:\n",
    "- I translated the date fields from text format to datetime\n",
    "- I have engineered 2 new fields from vehicle_added_date and bgc_date.\n",
    "\n",
    "With regard to the missing data, for many of the fields(e.g. 'bgc_date' and the vehicle information fields), the missing data is not a reflection of poor data.  It means that the individual never completed these actions.  Therefore, we won't handle this data as normal missing data by \"imputing\" a value or removing the rows.\n",
    "\n",
    "Overall results on the 5 properties\n",
    "- Structure:  This is generally correct, with the two caveats listed below regarding the data dictionary. Csv import worked correctly and filenames worked.  \n",
    "  - One column name(city_id -> city_name) is different from the data dictionary\n",
    "  - Date formats are provided incorrectly in the data dictionary. \n",
    "- Scope: The data is for each day of january 2016(except jan 31).  And, it is essentially regularly distributed across these days.  Therefore, the time of the data is as expected.  The scope of the data is partially based on the time.  There are 54681 rows.  I looked up an estimate for number of people who signed up to drive with uber and did not find anything.  From a look at the city_name field, I see that only 3 cities are represented in the data. Therefore, the scope of the data is only a subset of Uber's overall driver signups, maybe all from those 3 cities.  This \"scope\" is different than I had understood it to be when first looking at the dataset.  I had thought it was all Uber signups.\n",
    "- Granularity: The dataset unit of analysis is at the level of the individual who signed up as expected.  This is represented by the fact that the `driver_id` field is unduplicated.  \n",
    "- Temporality: The data is for all drivers who signed up in the month of Jan 2016.\n",
    "- Faithfulness: For each field, I've made notes on the faithfulness of the data in the blocks above.  Generally, across each field, the data is valid.  For 'vehicle_make' and 'vehicle_year', I have pointed out a small amount of data(less than .01%) that is probably invalid.\n",
    "\n"
   ]
  },
  {
   "cell_type": "markdown",
   "metadata": {},
   "source": [
    "#  Representativeness of the Sample\n",
    "\n",
    "Is this dataset that looks at individuals who signed up to drive for Uber in Jan 2016 in 3 towns representative of all individuals who sign up to drive for Uber everywhere?  In other words, can the conclusions we make about what factors led this cohort to become drivers be extrapolated to other cohorts of Uber signups?\n",
    "\n",
    "There are two main factors that will affect how representative this sample is relative to the target population to be extrapolated to.\n",
    "\n",
    "1. The representativeness of this sample will decrease with time.  If we used this data to predict the behavior of individuals over the rest of 2016, it might be effective.  However, one would expect that this representativeness and thus predictive ability would decrease as we got further away from the time the data was collected.  The market will change(e.g. maybe Lyft becomes more popular), the economy will change, etc.\n",
    "1. This data will be representative of populations that are similar to the 3 towns from which this sample came from.  It would have less predictive value if used to model behavior in a different region of the country or another country altogether.\n",
    "\n",
    "You must make the assumptions that: \n",
    "1. Time has not changed much between sample and target population\n",
    "1. The target population is similar to that of the sample"
   ]
  },
  {
   "cell_type": "markdown",
   "metadata": {},
   "source": [
    "# Sampling Method\n",
    "\n",
    "The sampling method used here is called \"Cohort Sampling\"  "
   ]
  }
 ],
 "metadata": {
  "kernelspec": {
   "display_name": "sci-py-env",
   "language": "python",
   "name": "python3"
  },
  "language_info": {
   "codemirror_mode": {
    "name": "ipython",
    "version": 3
   },
   "file_extension": ".py",
   "mimetype": "text/x-python",
   "name": "python",
   "nbconvert_exporter": "python",
   "pygments_lexer": "ipython3",
   "version": "3.11.4"
  }
 },
 "nbformat": 4,
 "nbformat_minor": 2
}
